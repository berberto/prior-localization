{
 "cells": [
  {
   "cell_type": "code",
   "execution_count": 81,
   "metadata": {},
   "outputs": [],
   "source": [
    "import sys\n",
    "import os\n",
    "import numpy as np\n",
    "import pandas as pd\n",
    "import matplotlib.pyplot as plt\n",
    "import plotly as ply\n",
    "import ipywidgets as iw\n",
    "from oneibl import one\n",
    "import brainbox.plot as bbp\n",
    "from fitplot_funs import err_wght_sync\n",
    "from export_funs import trialinfo_to_df\n",
    "\n",
    "%matplotlib inline\n",
    "\n",
    "fit_types = {'Stimulus on': 'stim',\n",
    "             'Feedback': 'fdbck',\n",
    "             'Prior estimate gain': 'prior',}\n",
    "\n",
    "# Iterate though directories and find which mice/sessions we have fits for\n",
    "mice = [x for x in os.listdir('./fits/') if os.path.isdir('./fits/' + x)]\n",
    "fitsess = {mouse: [y[:-2] for y in os.listdir(f'./fits/{mouse}/') if y.split('.')[-1] == 'p'] for mouse in mice}\n",
    "\n",
    "mousewidget = iw.Dropdown(options=mice)\n",
    "sesswidget = iw.Dropdown()\n",
    "cellwidget = iw.Dropdown()\n",
    "fitwidget = iw.Dropdown()\n",
    "\n",
    "def updatesess(*args):\n",
    "    sesswidget.options = fitsess[mousewidget.value]\n",
    "sesswidget.observe(updatesess)\n",
    "\n",
    "mouse = 'ZM_2240'\n",
    "sess = '2020-01-23_session_2020-04-11_probe0_fit.p'\n",
    "percentile = 95.  # We should only show cells whose prior gain / gain estimate variance is above this percentile\n",
    "\n",
    "fits = np.load(f'./fits/{mouse}/{sess}', allow_pickle=True)\n",
    "wts_per_kern = fits['wts_per_kern']\n",
    "kern_length = fits['kern_length']\n",
    "binw = fits['glm_binsize']\n",
    "uuid = fits['session_uuid']\n",
    "trdf = trialinfo_to_df(uuid, maxlen=2.)\n",
    "one = one.ONE()\n",
    "spikes, clu = one.load(uuid, ['spikes.times', 'spikes.clusters'])\n",
    "fullfits = fits['fits']\n",
    "fitdf = fullfits[np.isfinite(fullfits.prior)]\n",
    "prior_threshold = np.percentile(np.abs(fitdf.prior / fitdf.varprior), percentile)\n",
    "subsetdf = fitdf[np.abs(fitdf.prior / fitdf.varprior) > prior_threshold]"
   ]
  },
  {
   "cell_type": "code",
   "execution_count": 94,
   "metadata": {
    "scrolled": false
   },
   "outputs": [
    {
     "data": {
      "application/vnd.jupyter.widget-view+json": {
       "model_id": "379538378eed438bbfd257cda28beacf",
       "version_major": 2,
       "version_minor": 0
      },
      "text/plain": [
       "interactive(children=(Dropdown(description='cell', options=('cell8', 'cell10', 'cell20', 'cell27', 'cell35', '…"
      ]
     },
     "metadata": {},
     "output_type": "display_data"
    }
   ],
   "source": [
    "@iw.interact\n",
    "def plot_kern(cell=subsetdf.index.to_list(), kern=fit_types.keys()):\n",
    "    fig, axes = plt.subplots(2, 1, figsize=(15, 9))\n",
    "    currfit = fitdf.loc[cell]\n",
    "    timescale = np.arange(0, kern_length, binw)\n",
    "    if fit_types[kern] == 'stim':\n",
    "        weight1 = currfit['stim_L']\n",
    "        weight2 = currfit['stim_R']\n",
    "        err1 = err_wght_sync(currfit['varstim_L'], weight1)\n",
    "        err2 = err_wght_sync(currfit['varstim_R'], weight2)\n",
    "        label1 = 'Left stimulus onset'\n",
    "        label2 = 'Right stimulus onset'\n",
    "        title = 'Kernels fit to right and left stimulus onset'\n",
    "        event_t1 = np.array(trdf[np.isfinite(trdf.contrastLeft)].stimOn_times)\n",
    "        event_t2 = np.array(trdf[np.isfinite(trdf.contrastRight)].stimOn_times)\n",
    "    elif fit_types[kern] == 'fdbck':\n",
    "        weight1 = currfit['fdbck_corr']\n",
    "        weight2 = currfit['fdbck_incorr']\n",
    "        err1 = err_wght_sync(currfit['varfdbck_corr'], weight1)\n",
    "        err2 = err_wght_sync(currfit['varfdbck_incorr'], weight2)\n",
    "        label1 = 'Correct feedback'\n",
    "        label2 = 'Incorrect feedback'\n",
    "        title = 'Kernels fit to correct and incorrect feedback'\n",
    "        event_t1 = np.array(trdf[trdf.feedbackType == 1].stimOn_times)\n",
    "        event_t2 = np.array(trdf[trdf.feedbackType == -1].stimOn_times)\n",
    "    elif fit_types[kern] == 'prior':\n",
    "        plt.close(fig)\n",
    "        print('Gain modulation of prior estimate:', currfit['prior'], 'Std dev of fit:', currfit['varprior'])\n",
    "        return\n",
    "    bbp.peri_event_time_histogram(spikes, clu, event_t1, int(cell[4:]), t_before=0., t_after=0.6, ax=axes[0],\n",
    "                                  error_bars='sem',\n",
    "                                  pethline_kwargs={'color': 'navy', 'lw': 2, 'label': label1 + ' PSTH'},\n",
    "                                  errbar_kwargs={'color': 'navy', 'alpha': 0.2})\n",
    "    ymin1, ymax1 = axes[0].get_yticks()[1:]\n",
    "    bbp.peri_event_time_histogram(spikes, clu, event_t2, int(cell[4:]), t_before=0., t_after=0.6, ax=axes[0],\n",
    "                                  error_bars='sem',\n",
    "                                  pethline_kwargs={'color': 'orange', 'lw': 2, 'label': label2 + ' PSTH'},\n",
    "                                  errbar_kwargs={'color': 'orange', 'alpha': 0.2})\n",
    "    ymin2, ymax2 = axes[0].get_yticks()[1:]\n",
    "    axes[0].set_ylim([min((ymin1, ymin2)), max((ymax1, ymax2))])\n",
    "    axes[0].legend()\n",
    "    axes[0].set_title('PSTH about event')\n",
    "    plt.autoscale(axes[0])\n",
    "    axes[1].errorbar(timescale, weight1, yerr=err1, label=label1)\n",
    "    axes[1].errorbar(timescale, weight2, yerr=err2, label=label2)\n",
    "    axes[1].legend()\n",
    "    axes[1].set_xlabel('Time (s)')\n",
    "    axes[1].set_ylabel('Weight value')\n",
    "    axes[1].set_title(title)\n",
    "    \n",
    "    "
   ]
  },
  {
   "cell_type": "code",
   "execution_count": 91,
   "metadata": {},
   "outputs": [
    {
     "data": {
      "text/plain": [
       "1         27.753291\n",
       "2         31.336966\n",
       "5         44.437422\n",
       "6         48.420591\n",
       "8         56.618471\n",
       "           ...     \n",
       "1069    4800.805471\n",
       "1071    4823.438375\n",
       "1072    4827.736678\n",
       "1073    4832.136605\n",
       "1074    4837.037581\n",
       "Name: stimOn_times, Length: 579, dtype: float64"
      ]
     },
     "execution_count": 91,
     "metadata": {},
     "output_type": "execute_result"
    }
   ],
   "source": []
  },
  {
   "cell_type": "code",
   "execution_count": null,
   "metadata": {},
   "outputs": [],
   "source": []
  }
 ],
 "metadata": {
  "kernelspec": {
   "display_name": "Python 3",
   "language": "python",
   "name": "python3"
  },
  "language_info": {
   "codemirror_mode": {
    "name": "ipython",
    "version": 3
   },
   "file_extension": ".py",
   "mimetype": "text/x-python",
   "name": "python",
   "nbconvert_exporter": "python",
   "pygments_lexer": "ipython3",
   "version": "3.7.7"
  }
 },
 "nbformat": 4,
 "nbformat_minor": 4
}

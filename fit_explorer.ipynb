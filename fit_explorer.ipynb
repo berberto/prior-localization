{
 "cells": [
  {
   "cell_type": "code",
   "execution_count": 1,
   "metadata": {},
   "outputs": [
    {
     "name": "stdout",
     "output_type": "stream",
     "text": [
      "Connected to https://alyx.internationalbrainlab.org as berk.gercek\n",
      "Connected to https://alyx.internationalbrainlab.org as berk.gercek\n"
     ]
    }
   ],
   "source": [
    "import sys\n",
    "import os\n",
    "import numpy as np\n",
    "import pandas as pd\n",
    "import matplotlib.pyplot as plt\n",
    "import seaborn as sns\n",
    "import plotly as ply\n",
    "import ipywidgets as iw\n",
    "from oneibl import one\n",
    "import brainbox.plot as bbp\n",
    "from fitplot_funs import err_wght_sync\n",
    "from export_funs import trialinfo_to_df\n",
    "\n",
    "%matplotlib inline\n",
    "\n",
    "fit_types = {'Stimulus on': 'stim',\n",
    "             'Feedback': 'fdbck',\n",
    "             'Prior estimate gain': 'prior',}\n",
    "\n",
    "# Iterate though directories and find which mice/sessions we have fits for\n",
    "mice = [x for x in os.listdir('./fits/') if os.path.isdir('./fits/' + x)]\n",
    "fitsess = {mouse: [y[:-2] for y in os.listdir(f'./fits/{mouse}/') if y.split('.')[-1] == 'p'] for mouse in mice}\n",
    "\n",
    "mousewidget = iw.Dropdown(options=mice)\n",
    "sesswidget = iw.Dropdown()\n",
    "cellwidget = iw.Dropdown()\n",
    "fitwidget = iw.Dropdown()\n",
    "\n",
    "def updatesess(*args):\n",
    "    sesswidget.options = fitsess[mousewidget.value]\n",
    "sesswidget.observe(updatesess)\n",
    "\n",
    "mouse = 'ZM_2240'\n",
    "sess = '2020-01-22_session_2020-04-15_probe0_fit.p'\n",
    "probe_idx=0\n",
    "\n",
    "\n",
    "fits = np.load(f'./fits/{mouse}/{sess}', allow_pickle=True)\n",
    "wts_per_kern = fits['wts_per_kern']\n",
    "kern_length = fits['kern_length']\n",
    "binw = fits['glm_binsize']\n",
    "uuid = fits['session_uuid']\n",
    "p_est = fits['prior_est']\n",
    "trdf = trialinfo_to_df(uuid, maxlen=2.)\n",
    "one = one.ONE()\n",
    "spikes = one.load(uuid, ['spikes.times'])[probe_idx]\n",
    "clu = one.load(uuid, ['spikes.clusters'])[probe_idx]"
   ]
  },
  {
   "cell_type": "code",
   "execution_count": 2,
   "metadata": {},
   "outputs": [],
   "source": [
    "percentile = 90# We should only show cells whose prior gain / gain estimate variance is above this percentile\n",
    "fullfits = fits['fits']\n",
    "fitdf = fullfits[np.isfinite(fullfits.prior)]\n",
    "prior_threshold = np.percentile(np.abs(fitdf.prior / fitdf.varprior), percentile)\n",
    "subsetdf = fitdf[np.abs(fitdf.prior / fitdf.varprior) > prior_threshold]\n",
    "if 'bias' not in trdf.columns:\n",
    "    trdf = trdf.join(p_est)\n",
    "trdf = trdf[np.isfinite(trdf.bias)]"
   ]
  },
  {
   "cell_type": "code",
   "execution_count": 3,
   "metadata": {
    "scrolled": false
   },
   "outputs": [
    {
     "data": {
      "application/vnd.jupyter.widget-view+json": {
       "model_id": "9f04af1271904e6f826b9bee1181a09e",
       "version_major": 2,
       "version_minor": 0
      },
      "text/plain": [
       "interactive(children=(Dropdown(description='cell', options=('cell17', 'cell28', 'cell108', 'cell109', 'cell119…"
      ]
     },
     "metadata": {},
     "output_type": "display_data"
    }
   ],
   "source": [
    "SMALLER_SIZE = 16\n",
    "SMALL_SIZE = 20\n",
    "MEDIUM_SIZE = 24\n",
    "BIGGER_SIZE = 32\n",
    "\n",
    "plt.rc('font', size=SMALL_SIZE)          # controls default text sizes\n",
    "plt.rc('axes', titlesize=MEDIUM_SIZE)     # fontsize of the axes title\n",
    "plt.rc('axes', labelsize=MEDIUM_SIZE)    # fontsize of the x and y labels\n",
    "plt.rc('xtick', labelsize=SMALL_SIZE)    # fontsize of the tick labels\n",
    "plt.rc('ytick', labelsize=SMALL_SIZE)    # fontsize of the tick labels\n",
    "plt.rc('legend', fontsize=SMALLER_SIZE)    # legend fontsize\n",
    "plt.rc('figure', titlesize=BIGGER_SIZE)  # fontsize of the figure title\n",
    "\n",
    "@iw.interact\n",
    "def plot_kern(cell=subsetdf.index.to_list(), kern=fit_types.keys()):\n",
    "    fig, axes = plt.subplots(2, 1, figsize=(15, 9))\n",
    "    currfit = fitdf.loc[cell]\n",
    "    timescale = np.arange(0, kern_length, binw)\n",
    "    if fit_types[kern] == 'stim':\n",
    "        weight1 = currfit['stim_L']\n",
    "        weight2 = currfit['stim_R']\n",
    "        err1 = err_wght_sync(currfit['varstim_L'], weight1)\n",
    "        err2 = err_wght_sync(currfit['varstim_R'], weight2)\n",
    "        label1 = 'Left stimulus onset'\n",
    "        label2 = 'Right stimulus onset'\n",
    "        title = 'Kernels fit to right and left stimulus onset'\n",
    "        event_t1 = trdf[np.isfinite(trdf.contrastLeft)].stimOn_times\n",
    "        event_t2 = trdf[np.isfinite(trdf.contrastRight)].stimOn_times\n",
    "    elif fit_types[kern] == 'fdbck':\n",
    "        weight1 = currfit['fdbck_corr']\n",
    "        weight2 = currfit['fdbck_incorr']\n",
    "        err1 = err_wght_sync(currfit['varfdbck_corr'], weight1)\n",
    "        err2 = err_wght_sync(currfit['varfdbck_incorr'], weight2)\n",
    "        label1 = 'Correct feedback'\n",
    "        label2 = 'Incorrect feedback'\n",
    "        title = 'Kernels fit to correct and incorrect feedback'\n",
    "        event_t1 = trdf[trdf.feedbackType == 1].stimOn_times\n",
    "        event_t2 = trdf[trdf.feedbackType == -1].stimOn_times\n",
    "    elif fit_types[kern] == 'prior':\n",
    "        plt.close(fig)\n",
    "        fig, axes = plt.subplots(1, 1, figsize=(15, 9))\n",
    "        n_perc = 10\n",
    "        cmap = sns.color_palette('GnBu_d', n_perc)\n",
    "        percentiles = np.linspace(0, 100, n_perc + 1)\n",
    "        percvals = np.percentile(trdf.bias, percentiles)\n",
    "        print('Gain modulation of prior estimate:', currfit['prior'], 'Std dev of fit:', currfit['varprior'])\n",
    "        for i in range(1, n_perc + 1):\n",
    "            perctrials = trdf[(percvals[i-1] < trdf.bias) & (trdf.bias < percvals[i])].feedback_times\n",
    "            oldmin, oldmax = axes.get_ylim()\n",
    "            bbp.peri_event_time_histogram(spikes, clu, perctrials, int(cell[4:]), t_before=0.4, t_after=0.6, ax=axes,\n",
    "                                          error_bars='sem',\n",
    "                                          pethline_kwargs={'color': cmap[i-1], 'lw': 2, 'label': f'{percentiles[i-1]} to {percentiles[i]} percentile psy est'},\n",
    "                                          errbar_kwargs={'color': cmap[i-1], 'alpha': 0.2})\n",
    "            newmin, newmax = axes.get_ylim()\n",
    "            axes.set_ylim([min((oldmin, newmin)), max((newmax, oldmax))])\n",
    "            axes.set_yticks(axes.get_ylim())\n",
    "\n",
    "        axes.set_title('PSTH about stimulus for percentiles of psytrack estimate\\n'\n",
    "                       'GLM gain term: {:.2f}, Std. dev. of term: {:.2f}'.format(currfit['prior'], currfit['varprior']))\n",
    "        axes.set_xlabel('Time (s)')\n",
    "        axes.set_ylabel('Firing rate')\n",
    "        axes.legend()\n",
    "        plt.tight_layout()\n",
    "        return\n",
    "    bbp.peri_event_time_histogram(spikes, clu, event_t1, int(cell[4:]), t_before=0., t_after=0.6, ax=axes[0],\n",
    "                                  error_bars='sem',\n",
    "                                  pethline_kwargs={'color': 'navy', 'lw': 2, 'label': label1 + ' PSTH'},\n",
    "                                  errbar_kwargs={'color': 'navy', 'alpha': 0.2})\n",
    "    ymin1, ymax1 = axes[0].get_yticks()[1:]\n",
    "    bbp.peri_event_time_histogram(spikes, clu, event_t2, int(cell[4:]), t_before=0., t_after=0.6, ax=axes[0],\n",
    "                                  error_bars='sem',\n",
    "                                  pethline_kwargs={'color': 'orange', 'lw': 2, 'label': label2 + ' PSTH'},\n",
    "                                  errbar_kwargs={'color': 'orange', 'alpha': 0.2})\n",
    "    ymin2, ymax2 = axes[0].get_yticks()[1:]\n",
    "    axes[0].set_ylim([min((ymin1, ymin2)), max((ymax1, ymax2))])\n",
    "    axes[0].legend()\n",
    "    \n",
    "    axes[0].set_title(f'PSTH about {kern}')\n",
    "    plt.autoscale(axes[0])\n",
    "    axes[1].errorbar(timescale, weight1, yerr=err1, label=label1)\n",
    "    axes[1].errorbar(timescale, weight2, yerr=err2, label=label2)\n",
    "    axes[1].legend()\n",
    "    axes[1].set_xlabel('Time (s)')\n",
    "    axes[1].set_ylabel('Kernel value')\n",
    "    axes[1].set_title(title)\n",
    "    plt.tight_layout()\n",
    "    # Next: Tuning curve against psytrack estimate value (Cell 143), (cell 164)\n",
    "    "
   ]
  },
  {
   "cell_type": "code",
   "execution_count": 10,
   "metadata": {},
   "outputs": [
    {
     "name": "stdout",
     "output_type": "stream",
     "text": [
      "56 550\n"
     ]
    }
   ],
   "source": [
    "print(np.sum(trdf.feedbackType == -1), len(trdf))\n"
   ]
  },
  {
   "cell_type": "code",
   "execution_count": null,
   "metadata": {},
   "outputs": [],
   "source": []
  }
 ],
 "metadata": {
  "kernelspec": {
   "display_name": "Python 3",
   "language": "python",
   "name": "python3"
  },
  "language_info": {
   "codemirror_mode": {
    "name": "ipython",
    "version": 3
   },
   "file_extension": ".py",
   "mimetype": "text/x-python",
   "name": "python",
   "nbconvert_exporter": "python",
   "pygments_lexer": "ipython3",
   "version": "3.7.7"
  }
 },
 "nbformat": 4,
 "nbformat_minor": 4
}

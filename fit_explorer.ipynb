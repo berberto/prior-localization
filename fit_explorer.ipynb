{
 "cells": [
  {
   "cell_type": "markdown",
   "metadata": {},
   "source": [
    "# Exploring GLM fits to individual neurons\n",
    "\n",
    "The data below were fit using a GLM with two separate kernels aligned at different event times, across three different conditions.\n",
    "\n",
    "Conditions:\n",
    "1. Stimulus side (Left or Right)\n",
    "2. Bias block (P(Left) = {0.2, 0.5, 0.8})\n",
    "3. Stimulus contrast 'Low' = (0.0625, 0.125), 'High' = (0.25, 1.), 'Zero' = (0.)\n",
    "\n",
    "Kernels:\n",
    "1. Aligned at stimulus onset ('stimOn')\n",
    "2. Aligned at feedback time ('feedback_t')\n",
    "\n",
    "This results in 2 kernels per neurons at 30 different possible conditions. The tools below allow inspection of per-neuron fits across conditions where available. Some neurons do not fire enough spikes over the trials with a given condition to be worth fitting.\n",
    "\n",
    "## Select a session fit to examine:"
   ]
  },
  {
   "cell_type": "code",
   "execution_count": 1,
   "metadata": {},
   "outputs": [
    {
     "data": {
      "application/vnd.jupyter.widget-view+json": {
       "model_id": "9c4e15f6a132427288bc9588a0ea7d21",
       "version_major": 2,
       "version_minor": 0
      },
      "text/plain": [
       "interactive(children=(Dropdown(description='subj', options=('ZM_2240',), value='ZM_2240'), Dropdown(descriptio…"
      ]
     },
     "metadata": {},
     "output_type": "display_data"
    }
   ],
   "source": [
    "from ipywidgets import interact, Dropdown\n",
    "import os\n",
    "import pandas as pd\n",
    "import numpy as np\n",
    "from oneibl import one\n",
    "%matplotlib inline\n",
    "\n",
    "# Get names of subjects for which fits are available\n",
    "subjects = [x for x in os.listdir('./fits/') if os.path.isdir(f'./fits/{x}/')]\n",
    "dates = {sub: os.listdir(f'./fits/{sub}/') for sub in subjects}\n",
    "\n",
    "sub_widget = Dropdown(options = subjects)\n",
    "sess_widget = Dropdown()\n",
    "\n",
    "# Define a function that updates the content of y based on what we select for x\n",
    "def update(*args):\n",
    "    sess_widget.options = dates[sub_widget.value]\n",
    "sub_widget.observe(update)\n",
    "\n",
    "currfit = {}\n",
    "@interact(subj=sub_widget, fit_name=sess_widget)\n",
    "def get_fit(subj, fit_name):\n",
    "    currfit.update(np.load(f'./fits/{subj}/{fit_name}', allow_pickle=True))"
   ]
  },
  {
   "cell_type": "code",
   "execution_count": 2,
   "metadata": {},
   "outputs": [
    {
     "name": "stdout",
     "output_type": "stream",
     "text": [
      "Connected to https://alyx.internationalbrainlab.org as berk.gercek\n",
      "Session : ZM_2240 with UUID : 510b1a50-825d-44ce-86f6-9678f5396e02\n",
      "Connected to https://alyx.internationalbrainlab.org as berk.gercek\n",
      "0.6 0.02\n"
     ]
    },
    {
     "data": {
      "application/vnd.jupyter.widget-view+json": {
       "model_id": "8d3cc91aae1f4a81905d8a01944ecb82",
       "version_major": 2,
       "version_minor": 0
      },
      "text/plain": [
       "interactive(children=(Dropdown(description='cell', options=('cell10', 'cell100', 'cell102', 'cell103', 'cell10…"
      ]
     },
     "metadata": {},
     "output_type": "display_data"
    },
    {
     "data": {
      "text/plain": [
       "<function __main__.<lambda>(cell)>"
      ]
     },
     "execution_count": 2,
     "metadata": {},
     "output_type": "execute_result"
    }
   ],
   "source": [
    "from fitplot_funs import get_fullfit_cells, plot_cellkerns\n",
    "from export_data import trialinfo_to_df\n",
    "print('Session : {subject} with UUID : {session_uuid}'.format(**currfit))\n",
    "one = one.ONE()\n",
    "spikes, clus = one.load(currfit['session_uuid'], dataset_types=['spikes.times', 'spikes.clusters'])\n",
    "trialdf = trialinfo_to_df(currfit['session_uuid'])\n",
    "\n",
    "df = currfit['fits']\n",
    "# We need to get rid of the neutral bias zero contrast fits. These have too few trials and are never fit.\n",
    "droprows = df.xs([0.5, 'Zero'], level=['bias', 'contr'], drop_level=False).index\n",
    "df.drop(index=droprows, inplace=True)\n",
    "fitcells = get_fullfit_cells(df)\n",
    "cell_widg = Dropdown(options=fitcells)\n",
    "pltfun = lambda cell: plot_cellkerns(cell, [df, trialdf, spikes, clus, currfit['kern_length'],\n",
    "                                            currfit['glm_binsize']])\n",
    "print(currfit['kern_length'], currfit['glm_binsize'])\n",
    "interact(pltfun, cell=cell_widg)\n"
   ]
  },
  {
   "cell_type": "code",
   "execution_count": null,
   "metadata": {},
   "outputs": [],
   "source": []
  }
 ],
 "metadata": {
  "kernelspec": {
   "display_name": "Python 3",
   "language": "python",
   "name": "python3"
  },
  "language_info": {
   "codemirror_mode": {
    "name": "ipython",
    "version": 3
   },
   "file_extension": ".py",
   "mimetype": "text/x-python",
   "name": "python",
   "nbconvert_exporter": "python",
   "pygments_lexer": "ipython3",
   "version": "3.7.6"
  }
 },
 "nbformat": 4,
 "nbformat_minor": 4
}

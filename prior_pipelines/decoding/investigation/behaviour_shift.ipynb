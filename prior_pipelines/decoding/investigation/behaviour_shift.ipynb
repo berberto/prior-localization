{
 "cells": [
  {
   "cell_type": "code",
   "execution_count": 11,
   "metadata": {},
   "outputs": [],
   "source": [
    "import matplotlib.pyplot as plt\n",
    "import numpy as np\n",
    "import sys\n",
    "sys.path.append('../')\n",
    "import pandas as pd\n",
    "from one.api import ONE, One\n",
    "from functions.neurometric import fit_get_shift_range\n",
    "from braindelphi.decoding.functions.process_targets import optimal_Bayesian\n",
    "import models.utils as mut\n",
    "from scipy.stats import pearsonr, spearmanr, wilcoxon\n",
    "import brainbox.io.one as bbone\n",
    "\n",
    "from braindelphi.decoding.settings import kwargs\n",
    "from braindelphi.params import CACHE_PATH, IMPOSTER_SESSION_PATH\n",
    "from braindelphi.decoding.functions.utils import load_metadata\n",
    "import pickle\n",
    "\n",
    "from tqdm import tqdm\n"
   ]
  },
  {
   "cell_type": "code",
   "execution_count": 9,
   "metadata": {},
   "outputs": [
    {
     "data": {
      "text/plain": [
       "(259,)"
      ]
     },
     "execution_count": 9,
     "metadata": {},
     "output_type": "execute_result"
    }
   ],
   "source": [
    "# get all eids \n",
    "bwmdf, _ = load_metadata(CACHE_PATH.joinpath('*_%s_metadata.pkl' % kwargs['neural_dtype']).as_posix())\n",
    "eids = bwmdf['dataset_filenames']['eid'].values\n",
    "eids.shape"
   ]
  },
  {
   "cell_type": "code",
   "execution_count": 12,
   "metadata": {},
   "outputs": [
    {
     "name": "stderr",
     "output_type": "stream",
     "text": [
      "  0%|          | 0/2 [00:00<?, ?it/s]"
     ]
    },
    {
     "name": "stdout",
     "output_type": "stream",
     "text": [
      "56956777-dca5-468c-87cb-78150432cc57\n"
     ]
    },
    {
     "name": "stderr",
     "output_type": "stream",
     "text": [
      "Inconsistent dimensions for object: trials \n",
      "(425,),\tstimOff_times\n",
      "(425,),\tgoCueTrigger_times\n",
      "(421,),\titiDuration\n",
      "(425, 2),\tintervals_bpod\n",
      "(425,),\tresponse_times\n",
      "(425,),\tchoice\n",
      "(425,),\tfeedback_times\n",
      "(425,),\tfeedbackType\n",
      "(425,),\tprobabilityLeft\n",
      "(425,),\tgoCue_times\n",
      "(425,),\tfirstMovement_times\n",
      "(425,),\tcontrastLeft\n",
      "(425,),\tcontrastRight\n",
      "(425,),\tstimOn_times\n",
      "(425,),\trewardVolume\n",
      "(425, 2),\tintervals\n",
      " 50%|█████     | 1/2 [00:47<00:47, 47.71s/it]"
     ]
    },
    {
     "name": "stdout",
     "output_type": "stream",
     "text": [
      "a8a8af78-16de-4841-ab07-fde4b5281a03\n"
     ]
    },
    {
     "name": "stderr",
     "output_type": "stream",
     "text": [
      "Inconsistent dimensions for object: trials \n",
      "(550, 2),\tintervals_bpod\n",
      "(550,),\tgoCueTrigger_times\n",
      "(550,),\tstimOff_times\n",
      "(549,),\titiDuration\n",
      "(550,),\tcontrastLeft\n",
      "(550,),\tprobabilityLeft\n",
      "(550,),\tfeedbackType\n",
      "(550,),\tfeedback_times\n",
      "(550,),\tresponse_times\n",
      "(550,),\tstimOn_times\n",
      "(550,),\trewardVolume\n",
      "(550,),\tfirstMovement_times\n",
      "(550,),\tchoice\n",
      "(550,),\tcontrastRight\n",
      "(550,),\tgoCue_times\n",
      "(550, 2),\tintervals\n",
      "100%|██████████| 2/2 [01:35<00:00, 47.93s/it]\n"
     ]
    }
   ],
   "source": [
    "outdict = {}\n",
    "nb_simul_beh_shift = 10000\n",
    "\n",
    "oracle_pLefts = []\n",
    "priors_pLefts = []\n",
    "#  session level\n",
    "for eid in tqdm(eids):\n",
    "    print(eid)\n",
    "    try:\n",
    "        data =  bbone.load_trials_df(eid)\n",
    "    except:\n",
    "        print('loading error')\n",
    "        continue\n",
    "    uniq_contrasts = np.array([-1., -0.25, -0.125, -0.0625, 0.,  0.0625,  0.125, 0.25,  1.])\n",
    "\n",
    "    side, stim, act, oracle_pLeft = mut.format_data(data)\n",
    "    prior = optimal_Bayesian(act, side).numpy()\n",
    "    oracle_pLefts.append(oracle_pLeft)\n",
    "    priors_pLefts.append(prior)\n",
    "\n",
    "    #trials_df = bbone.load_trials_df(eid, one=one, addtl_types=['firstMovement_times'])\n",
    "    #reaction_times = (trials_df['firstMovement_times'] - trials_df['goCue_times']).values\n",
    "\n",
    "    # take out negative reaction times and when the mouse doesn't perform an action\n",
    "    stim = stim[(act != 0)]\n",
    "    side = side[(act != 0)]\n",
    "    prior = prior[(act != 0)]\n",
    "    act = act[(act != 0)]\n",
    "\n",
    "    pLeft_constrast = {c: np.mean(act[stim == c] == 1) for c in uniq_contrasts}\n",
    "    no_integration_act = np.vstack([2 * np.random.binomial(1, pLeft_constrast[c], size=nb_simul_beh_shift) - 1 for\n",
    "                                    c in stim])\n",
    "\n",
    "    perfat0 = (act == side)[stim == 0].mean()\n",
    "    t, p = wilcoxon((act == side)[stim == 0] * 1 - 0.5, alternative='greater')\n",
    "\n",
    "    p_nointegration = np.mean((no_integration_act == side[:, None]).mean(axis=0) < (act == side).mean())\n",
    "\n",
    "    p_0cont_nointegration = np.mean((no_integration_act[stim == 0] == side[stim == 0, None]).mean(axis=0)\n",
    "                                    < (act == side)[stim == 0].mean())\n",
    "\n",
    "    low_prob_idx_trials = [(prior < 0.5) * (stim == c) for c in uniq_contrasts]\n",
    "    lowprob_arr = [uniq_contrasts,\n",
    "                   [len(act[idx]) for idx in low_prob_idx_trials],\n",
    "                   [(act[idx] == 1).mean() for idx in low_prob_idx_trials]]\n",
    "    high_prob_idx_trials = [(prior > 0.5) * (stim == c) for c in uniq_contrasts]\n",
    "    highprob_arr = [uniq_contrasts,\n",
    "                    [len(act[idx]) for idx in high_prob_idx_trials],\n",
    "                    [(act[idx] == 1).mean() for idx in high_prob_idx_trials]]\n",
    "\n",
    "    full_neurometric = fit_get_shift_range([lowprob_arr, highprob_arr], False, nfits=500)\n",
    "\n",
    "    outdict[eid] = [t, p, p_nointegration, p_0cont_nointegration, perfat0, full_neurometric['shift']]\n",
    "\n",
    "behdf = pd.DataFrame.from_dict(outdict, orient='index', columns=['tvalue', 'pvalue', 'p_nointegration',\n",
    "                                                                 'p_0cont_nointegration',\n",
    "                                                                 '0contrast_perf', 'psychometric_shift'])\n",
    "\n"
   ]
  },
  {
   "cell_type": "code",
   "execution_count": 13,
   "metadata": {},
   "outputs": [
    {
     "data": {
      "text/html": [
       "<div>\n",
       "<style scoped>\n",
       "    .dataframe tbody tr th:only-of-type {\n",
       "        vertical-align: middle;\n",
       "    }\n",
       "\n",
       "    .dataframe tbody tr th {\n",
       "        vertical-align: top;\n",
       "    }\n",
       "\n",
       "    .dataframe thead th {\n",
       "        text-align: right;\n",
       "    }\n",
       "</style>\n",
       "<table border=\"1\" class=\"dataframe\">\n",
       "  <thead>\n",
       "    <tr style=\"text-align: right;\">\n",
       "      <th></th>\n",
       "      <th>tvalue</th>\n",
       "      <th>pvalue</th>\n",
       "      <th>p_nointegration</th>\n",
       "      <th>p_0cont_nointegration</th>\n",
       "      <th>0contrast_perf</th>\n",
       "      <th>psychometric_shift</th>\n",
       "    </tr>\n",
       "  </thead>\n",
       "  <tbody>\n",
       "    <tr>\n",
       "      <th>56956777-dca5-468c-87cb-78150432cc57</th>\n",
       "      <td>728.5</td>\n",
       "      <td>0.020124</td>\n",
       "      <td>0.8654</td>\n",
       "      <td>0.9879</td>\n",
       "      <td>0.673913</td>\n",
       "      <td>0.392902</td>\n",
       "    </tr>\n",
       "    <tr>\n",
       "      <th>a8a8af78-16de-4841-ab07-fde4b5281a03</th>\n",
       "      <td>1165.5</td>\n",
       "      <td>0.063754</td>\n",
       "      <td>0.8014</td>\n",
       "      <td>0.9459</td>\n",
       "      <td>0.596774</td>\n",
       "      <td>0.197099</td>\n",
       "    </tr>\n",
       "  </tbody>\n",
       "</table>\n",
       "</div>"
      ],
      "text/plain": [
       "                                      tvalue    pvalue  p_nointegration  \\\n",
       "56956777-dca5-468c-87cb-78150432cc57   728.5  0.020124           0.8654   \n",
       "a8a8af78-16de-4841-ab07-fde4b5281a03  1165.5  0.063754           0.8014   \n",
       "\n",
       "                                      p_0cont_nointegration  0contrast_perf  \\\n",
       "56956777-dca5-468c-87cb-78150432cc57                 0.9879        0.673913   \n",
       "a8a8af78-16de-4841-ab07-fde4b5281a03                 0.9459        0.596774   \n",
       "\n",
       "                                      psychometric_shift  \n",
       "56956777-dca5-468c-87cb-78150432cc57            0.392902  \n",
       "a8a8af78-16de-4841-ab07-fde4b5281a03            0.197099  "
      ]
     },
     "execution_count": 13,
     "metadata": {},
     "output_type": "execute_result"
    }
   ],
   "source": [
    "behdf.to_parquet('beh_shift_session_10-08-2022.parquet')"
   ]
  }
 ],
 "metadata": {
  "kernelspec": {
   "display_name": "Python 3.9.10 ('iblenv')",
   "language": "python",
   "name": "python3"
  },
  "language_info": {
   "codemirror_mode": {
    "name": "ipython",
    "version": 3
   },
   "file_extension": ".py",
   "mimetype": "text/x-python",
   "name": "python",
   "nbconvert_exporter": "python",
   "pygments_lexer": "ipython3",
   "version": "3.9.10"
  },
  "orig_nbformat": 4,
  "vscode": {
   "interpreter": {
    "hash": "0dcb35706add578baeb618760aee392df1e17e43ac29cbdac4649e1335fc3109"
   }
  }
 },
 "nbformat": 4,
 "nbformat_minor": 2
}

{
 "cells": [
  {
   "cell_type": "code",
   "execution_count": 1,
   "metadata": {},
   "outputs": [
    {
     "name": "stdout",
     "output_type": "stream",
     "text": [
      "Connected to https://alyx.internationalbrainlab.org as berk.gercek\n",
      "Connected to https://alyx.internationalbrainlab.org as berk.gercek\n"
     ]
    }
   ],
   "source": [
    "from oneibl import one\n",
    "import numpy as np\n",
    "import pandas as pd\n",
    "from brainbox.modeling import glm\n",
    "from export_funs import trialinfo_to_df\n",
    "import os\n",
    "\n",
    "one = one.ONE()\n",
    "\n",
    "session_id = one.search(subject='ZM_2240', date_range=['2020-01-22', '2020-01-22'],\n",
    "                        dataset_types=['spikes.clusters'])[0]\n",
    "spk_t = one.load(session_id, 'spikes.times')[0]\n",
    "spk_clu = one.load(session_id, 'spikes.clusters')[0]\n",
    "trialsdf = trialinfo_to_df(session_id, maxlen=2.)\n",
    "trialsdf = trialsdf.drop(labels=[trialsdf.index[-1], trialsdf.index[0]])\n"
   ]
  },
  {
   "cell_type": "code",
   "execution_count": 13,
   "metadata": {},
   "outputs": [
    {
     "data": {
      "application/vnd.jupyter.widget-view+json": {
       "model_id": "b10c5a686a064720b88195b5ef753591",
       "version_major": 2,
       "version_minor": 0
      },
      "text/plain": [
       "interactive(children=(Dropdown(description='numkerns', options=(1, 2), value=1), Dropdown(description='cell', …"
      ]
     },
     "metadata": {},
     "output_type": "display_data"
    }
   ],
   "source": [
    "import ipywidgets as iw\n",
    "from brainbox.plot import peri_event_time_histogram\n",
    "sk1reg = './fits/ZM_2240/2020-01-22_session_2020-06-16_probe0_pyfit_sklearn_1kern_regularized.p'\n",
    "sk2reg = './fits/ZM_2240/2020-01-22_session_2020-06-16_probe0_pyfit_sklearn_2kern_regularized.p'\n",
    "sk1noreg = './fits/ZM_2240/2020-01-22_session_2020-06-15_probe0_pyfit_sklearn_1kern_noreg.p'\n",
    "sk2noreg = './fits/ZM_2240/2020-01-22_session_2020-06-15_probe0_pyfit_sklearn_2kern_noreg.p'\n",
    "min1 = './fits/ZM_2240/2020-01-22_session_2020-06-15_probe0_pyfit_minimize_1kern.p'\n",
    "min2 = './fits/ZM_2240/2020-01-22_session_2020-06-15_probe0_pyfit_minimize_2kern.p'\n",
    "sk1rfit = np.load(sk1reg, allow_pickle=True)\n",
    "sk2rfit = np.load(sk2reg, allow_pickle=True)\n",
    "sk1nrfit = np.load(sk1noreg, allow_pickle=True)\n",
    "sk2nrfit = np.load(sk2noreg, allow_pickle=True)\n",
    "min1fit = np.load(min1, allow_pickle=True)\n",
    "min2fit = np.load(min2, allow_pickle=True)\n",
    "singlekern = {}\n",
    "twokern = {}\n",
    "singlekern['reg'] = sk1rfit['weights']\n",
    "twokern['reg'] = sk2rfit['weights']\n",
    "singlekern['noreg'] = sk1nrfit['weights']\n",
    "twokern['noreg'] = sk2nrfit['weights']\n",
    "singlekern['min'] = min1fit['weights']\n",
    "twokern['min'] = min2fit['weights']\n",
    "%matplotlib inline\n",
    "\n",
    "@iw.interact\n",
    "def plot_kern(numkerns=[1, 2], cell=singlekern['reg']['stimonL']['weights'].index.to_list(), kern=list(twokern['reg'].keys())):\n",
    "    if (numkerns == 1) & (kern[-4:] == 'rect'):\n",
    "        print('No feedback kernel fit on this model')\n",
    "        return\n",
    "    if numkerns == 1:\n",
    "        skregkern = singlekern['reg'][kern]['weights'].loc[cell]\n",
    "        sknrkern = singlekern['noreg'][kern]['weights'].loc[cell]\n",
    "        minkern = singlekern['min'][kern]['weights'].loc[cell]\n",
    "    elif numkerns == 2:\n",
    "        skregkern = twokern['reg'][kern]['weights'].loc[cell]\n",
    "        sknrkern = twokern['noreg'][kern]['weights'].loc[cell]\n",
    "        minkern = twokern['min'][kern]['weights'].loc[cell]\n",
    "    fig, ax = plt.subplots(2, 2, figsize=(18, 16))\n",
    "    if kern[:-1] == 'stimon':\n",
    "        column = 'contrastLeft' if kern[-1] == 'L' else 'contrastRight'\n",
    "        events = trialsdf[np.isfinite(trialsdf[column])].stimOn_times\n",
    "        peri_event_time_histogram(spk_t, spk_clu, events, cell, t_before=0, t_after=sk1rfit['kernlen'],\n",
    "                                  error_bars='sem', ax=ax[0, 0])\n",
    "    elif kern[-4:] == 'rect':\n",
    "        key = -1 if kern == 'incorrect' else 1\n",
    "        events = trialsdf[trialsdf.feedbackType == key].feedback_times\n",
    "        peri_event_time_histogram(spk_t, spk_clu, events, cell, t_before=0, t_after=sk1rfit['kernlen'],\n",
    "                                  error_bars='sem', ax=ax[0, 0])\n",
    "    ax[0, 1].plot(minkern, label='NLL Minimization kernel', c='orange')\n",
    "    ax[0, 1].set_title('Minimization of NLL')\n",
    "    ax[1, 0].plot(skregkern, label='Regularized sklearn', c='purple')\n",
    "    ax[1, 0].set_title('Regularized (alpha = 1) sklearn kernel')\n",
    "    ax[1, 1].plot(sknrkern, label='Non-regularized sklearn kernel')\n",
    "    ax[1, 1].set_title('No regularization (alpha = 0) sklearn kernel')\n",
    "    "
   ]
  },
  {
   "cell_type": "code",
   "execution_count": 4,
   "metadata": {},
   "outputs": [
    {
     "data": {
      "text/plain": [
       "dict_keys(['stimonL', 'stimonR'])"
      ]
     },
     "execution_count": 4,
     "metadata": {},
     "output_type": "execute_result"
    }
   ],
   "source": [
    "singlekern['reg'].keys()"
   ]
  },
  {
   "cell_type": "code",
   "execution_count": 4,
   "metadata": {},
   "outputs": [
    {
     "data": {
      "text/plain": [
       "dict_keys(['stimonL', 'stimonR'])"
      ]
     },
     "execution_count": 4,
     "metadata": {},
     "output_type": "execute_result"
    }
   ],
   "source": [
    "skdf.keys()"
   ]
  },
  {
   "cell_type": "code",
   "execution_count": null,
   "metadata": {},
   "outputs": [],
   "source": []
  }
 ],
 "metadata": {
  "kernelspec": {
   "display_name": "Python 3.7.7 64-bit ('priorloc': conda)",
   "language": "python",
   "name": "python37764bitpriorloccondad498b89a0c1940378d83d1dd78e6ea45"
  },
  "language_info": {
   "codemirror_mode": {
    "name": "ipython",
    "version": 3
   },
   "file_extension": ".py",
   "mimetype": "text/x-python",
   "name": "python",
   "nbconvert_exporter": "python",
   "pygments_lexer": "ipython3",
   "version": "3.7.7"
  }
 },
 "nbformat": 4,
 "nbformat_minor": 4
}

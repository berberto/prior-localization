{
 "cells": [
  {
   "cell_type": "code",
   "execution_count": 24,
   "metadata": {},
   "outputs": [],
   "source": [
    "import numpy as np\n",
    "import pandas as pd\n",
    "import seaborn as sns\n",
    "from oneibl import one\n",
    "from export_funs import trialinfo_to_df\n",
    "%matplotlib inline\n",
    "one = one.ONE(offline=True)\n",
    "\n",
    "SMALL_SIZE = 16\n",
    "MEDIUM_SIZE = 20\n",
    "BIGGER_SIZE = 24\n",
    "\n",
    "plt.rc('font', size=SMALL_SIZE)          # controls default text sizes\n",
    "plt.rc('axes', titlesize=SMALL_SIZE)     # fontsize of the axes title\n",
    "plt.rc('axes', labelsize=MEDIUM_SIZE)    # fontsize of the x and y labels\n",
    "plt.rc('xtick', labelsize=SMALL_SIZE)    # fontsize of the tick labels\n",
    "plt.rc('ytick', labelsize=SMALL_SIZE)    # fontsize of the tick labels\n",
    "plt.rc('legend', fontsize=SMALL_SIZE)    # legend fontsize\n",
    "plt.rc('figure', titlesize=BIGGER_SIZE)  # fontsize of the figure title\n",
    "\n",
    "session_id = '259927fd-7563-4b03-bc5d-17b4d0fa7a55'\n",
    "regdata = np.load('./fits/ZM_2240/2020-01-22_session_2020-07-13_probe0_pyfit_sklearn.p', allow_pickle=True)\n",
    "trialsdf = trialinfo_to_df(session_id, wheel=False)\n",
    "fits = regdata['fitobj']\n",
    "weights = regdata['weights']\n",
    "spk_times = one.load(session_id, dataset_types=['spikes.times'])[0]\n",
    "spk_clu = one.load(session_id, dataset_types=['spikes.clusters'])[0]"
   ]
  },
  {
   "cell_type": "code",
   "execution_count": 25,
   "metadata": {},
   "outputs": [
    {
     "data": {
      "application/vnd.jupyter.widget-view+json": {
       "model_id": "230a2a74d230420583ac96915eb2e7e1",
       "version_major": 2,
       "version_minor": 0
      },
      "text/plain": [
       "interactive(children=(Dropdown(description='cell', options=(0, 1, 2, 3, 4, 5, 6, 7, 8, 9, 10, 12, 15, 16, 17, …"
      ]
     },
     "metadata": {},
     "output_type": "display_data"
    }
   ],
   "source": [
    "import ipywidgets as iw\n",
    "from brainbox.plot import peri_event_time_histogram\n",
    "cells = weights['stimonL'].index.to_list()\n",
    "kernels = list(weights.keys())\n",
    "scores = fits.score()\n",
    "\n",
    "@iw.interact\n",
    "def plot_fits(cell=cells, kernel=kernels):\n",
    "    if kernel[:-1] == 'stimon':\n",
    "        side = 'contrastLeft' if kernel[-1] == 'L' else 'contrastRight'\n",
    "        times = trialsdf[np.isfinite(trialsdf[side])].stimOn_times.values\n",
    "    elif kernel[-4:] == 'rect':\n",
    "        fdbk = 1 if kernel == 'correct' else -1\n",
    "        times = trialsdf[trialsdf['feedbackType'] == fdbk].feedback_times\n",
    "\n",
    "    if kernel in ['stimonL', 'stimonR', 'correct', 'incorrect']:\n",
    "        fig, ax = plt.subplots(2, 1, figsize=(8, 12))\n",
    "        ax0 = ax[0]\n",
    "        ax1 = ax[1]\n",
    "        peri_event_time_histogram(spk_times, spk_clu, times, cell, t_before=0., t_after=0.6, bin_size=0.02, ax=ax[0],\n",
    "                                  error_bars='sem')\n",
    "    else:\n",
    "        fig, ax1 = plt.subplots(1, 1, figsize=(6, 6)) \n",
    "    colors = sns.cubehelix_palette(20, start=2, rot=0, dark=0, light=.8)\n",
    "    ax1.plot(weights[kernel].loc[cell])\n",
    "    plt.title(f'D^2 score of {scores[cell]}')\n",
    "    plt.tight_layout()"
   ]
  },
  {
   "cell_type": "code",
   "execution_count": 23,
   "metadata": {},
   "outputs": [
    {
     "ename": "AttributeError",
     "evalue": "'NeuralGLM' object has no attribute 'variances'",
     "output_type": "error",
     "traceback": [
      "\u001b[0;31m---------------------------------------------------------------------------\u001b[0m",
      "\u001b[0;31mAttributeError\u001b[0m                            Traceback (most recent call last)",
      "\u001b[0;32m<ipython-input-23-5bbb780c98a7>\u001b[0m in \u001b[0;36m<module>\u001b[0;34m\u001b[0m\n\u001b[0;32m----> 1\u001b[0;31m \u001b[0mfits\u001b[0m\u001b[0;34m.\u001b[0m\u001b[0mvariances\u001b[0m\u001b[0;34m\u001b[0m\u001b[0;34m\u001b[0m\u001b[0m\n\u001b[0m",
      "\u001b[0;31mAttributeError\u001b[0m: 'NeuralGLM' object has no attribute 'variances'"
     ]
    }
   ],
   "source": [
    "fits.variances"
   ]
  },
  {
   "cell_type": "code",
   "execution_count": null,
   "metadata": {},
   "outputs": [],
   "source": []
  }
 ],
 "metadata": {
  "kernelspec": {
   "display_name": "Python 3.7.7 64-bit ('priorloc': conda)",
   "language": "python",
   "name": "python37764bitpriorloccondad498b89a0c1940378d83d1dd78e6ea45"
  },
  "language_info": {
   "codemirror_mode": {
    "name": "ipython",
    "version": 3
   },
   "file_extension": ".py",
   "mimetype": "text/x-python",
   "name": "python",
   "nbconvert_exporter": "python",
   "pygments_lexer": "ipython3",
   "version": "3.7.7"
  }
 },
 "nbformat": 4,
 "nbformat_minor": 4
}

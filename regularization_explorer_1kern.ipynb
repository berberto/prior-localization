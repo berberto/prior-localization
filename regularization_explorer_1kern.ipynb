{
 "cells": [
  {
   "cell_type": "code",
   "execution_count": 1,
   "metadata": {},
   "outputs": [],
   "source": [
    "import numpy as np\n",
    "import pandas as pd\n",
    "import seaborn as sns\n",
    "%matplotlib inline\n",
    "\n",
    "SMALL_SIZE = 16\n",
    "MEDIUM_SIZE = 20\n",
    "BIGGER_SIZE = 24\n",
    "\n",
    "plt.rc('font', size=SMALL_SIZE)          # controls default text sizes\n",
    "plt.rc('axes', titlesize=SMALL_SIZE)     # fontsize of the axes title\n",
    "plt.rc('axes', labelsize=MEDIUM_SIZE)    # fontsize of the x and y labels\n",
    "plt.rc('xtick', labelsize=SMALL_SIZE)    # fontsize of the tick labels\n",
    "plt.rc('ytick', labelsize=SMALL_SIZE)    # fontsize of the tick labels\n",
    "plt.rc('legend', fontsize=SMALL_SIZE)    # legend fontsize\n",
    "plt.rc('figure', titlesize=BIGGER_SIZE)  # fontsize of the figure title\n",
    "\n",
    "regdata = np.load('regularization_test_ZM_2240_sessdate_2020-01-22_fitdate_2020-07-05_1k.p', allow_pickle=True)\n",
    "regfits = regdata['regularizations']\n",
    "spk_clu = regdata['spk_clu']\n",
    "spk_times = regdata['spk_times']\n",
    "trialsdf = regdata['trialsdf']\n",
    "dscores = [regfits[key][0].score() for key in sorted(regfits.keys())]"
   ]
  },
  {
   "cell_type": "code",
   "execution_count": 2,
   "metadata": {},
   "outputs": [
    {
     "data": {
      "application/vnd.jupyter.widget-view+json": {
       "model_id": "7044fa48845b4fbf88bae4f6df303c00",
       "version_major": 2,
       "version_minor": 0
      },
      "text/plain": [
       "interactive(children=(Dropdown(description='cell', options=(0, 1, 2, 3, 4, 5, 6, 7, 8, 9, 10, 12, 15, 16, 17, …"
      ]
     },
     "metadata": {},
     "output_type": "display_data"
    }
   ],
   "source": [
    "import ipywidgets as iw\n",
    "from brainbox.plot import peri_event_time_histogram\n",
    "cells = regfits[0][1]['stimonL'].index.to_list()\n",
    "kernels = list(regfits[0][1].keys())\n",
    "\n",
    "@iw.interact\n",
    "def plot_fits(cell=cells, kernel=kernels):\n",
    "    if kernel[:-1] == 'stimon':\n",
    "        side = 'contrastLeft' if kernel[-1] == 'L' else 'contrastRight'\n",
    "        times = trialsdf[np.isfinite(trialsdf[side])].stimOn_times.values\n",
    "    elif kernel[-4:] == 'rect':\n",
    "        fdbk = 1 if kernel == 'correct' else -1\n",
    "        times = trialsdf[trialsdf['feedbackType'] == fdbk].feedback_times\n",
    "\n",
    "    fig, ax = plt.subplots(4, 1, figsize=(12, 18))\n",
    "    peri_event_time_histogram(spk_times, spk_clu, times, cell, t_before=0., t_after=0.6, bin_size=0.02, ax=ax[0],\n",
    "                              error_bars='sem')\n",
    "    colors = sns.cubehelix_palette(20, start=2, rot=0, dark=0, light=.8)\n",
    "\n",
    "    for alpha, (_, fits) in regfits.items():\n",
    "        color = colors.pop()\n",
    "        if alpha == 0:\n",
    "            ax[1].plot(fits[kernel].loc[cell], color=color)\n",
    "        else:\n",
    "            ax[2].plot(fits[kernel].loc[cell], color=color)\n",
    "    cellscores = [x[cell] for x in dscores]\n",
    "    ax[3].plot(sorted(regfits.keys()), cellscores)\n",
    "    ax[3].set_title('Deviance squared score for each alpha')\n",
    "    plt.tight_layout()"
   ]
  },
  {
   "cell_type": "code",
   "execution_count": null,
   "metadata": {},
   "outputs": [],
   "source": []
  }
 ],
 "metadata": {
  "kernelspec": {
   "display_name": "Python 3.7.7 64-bit ('priorloc': conda)",
   "language": "python",
   "name": "python37764bitpriorloccondad498b89a0c1940378d83d1dd78e6ea45"
  },
  "language_info": {
   "codemirror_mode": {
    "name": "ipython",
    "version": 3
   },
   "file_extension": ".py",
   "mimetype": "text/x-python",
   "name": "python",
   "nbconvert_exporter": "python",
   "pygments_lexer": "ipython3",
   "version": "3.7.7"
  }
 },
 "nbformat": 4,
 "nbformat_minor": 4
}

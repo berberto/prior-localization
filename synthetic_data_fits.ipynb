{
 "cells": [
  {
   "cell_type": "code",
   "execution_count": 1,
   "metadata": {},
   "outputs": [
    {
     "name": "stdout",
     "output_type": "stream",
     "text": [
      "Connected to https://alyx.internationalbrainlab.org as berk.gercek\n"
     ]
    }
   ],
   "source": [
    "import numpy as np\n",
    "import pandas as pd\n",
    "import seaborn as sns\n",
    "from oneibl import one\n",
    "from export_funs import trialinfo_to_df\n",
    "from prior_funcs import fit_sess_psytrack\n",
    "\n",
    "%matplotlib inline\n",
    "one = one.ONE(offline=True)\n",
    "\n",
    "SMALL_SIZE = 16\n",
    "MEDIUM_SIZE = 20\n",
    "BIGGER_SIZE = 24\n",
    "\n",
    "plt.rc('font', size=SMALL_SIZE)          # controls default text sizes\n",
    "plt.rc('axes', titlesize=SMALL_SIZE)     # fontsize of the axes title\n",
    "plt.rc('axes', labelsize=MEDIUM_SIZE)    # fontsize of the x and y labels\n",
    "plt.rc('xtick', labelsize=SMALL_SIZE)    # fontsize of the tick labels\n",
    "plt.rc('ytick', labelsize=SMALL_SIZE)    # fontsize of the tick labels\n",
    "plt.rc('legend', fontsize=SMALL_SIZE)    # legend fontsize\n",
    "plt.rc('figure', titlesize=BIGGER_SIZE)  # fontsize of the figure title\n",
    "\n",
    "session_id = '259927fd-7563-4b03-bc5d-17b4d0fa7a55'\n",
    "trialsdf = trialinfo_to_df(session_id, maxlen=2.)\n",
    "wts, stds = fit_sess_psytrack(session_id, maxlength=2., as_df=True)\n",
    "trialsdf = pd.concat((trialsdf, wts['bias']), axis=1)\n",
    "bias_next = np.roll(trialsdf['bias'], -1)\n",
    "bias_next = pd.Series(bias_next, index=trialsdf['bias'].index)[:-1]\n",
    "trialsdf['bias_next'] = bias_next\n",
    "spk_times = one.load(session_id, dataset_types=['spikes.times'], offline=True)[0]\n",
    "spk_clu = one.load(session_id, dataset_types=['spikes.clusters'], offline=True)[0]"
   ]
  },
  {
   "cell_type": "code",
   "execution_count": 8,
   "metadata": {},
   "outputs": [
    {
     "data": {
      "application/vnd.jupyter.widget-view+json": {
       "model_id": "9014d627f7834354a5421c86c19cfcd7",
       "version_major": 2,
       "version_minor": 0
      },
      "text/plain": [
       "interactive(children=(Dropdown(description='cell', options=(0, 1, 2, 9, 15, 16, 20, 26, 29, 30), value=0), Dro…"
      ]
     },
     "metadata": {},
     "output_type": "display_data"
    }
   ],
   "source": [
    "import ipywidgets as iw\n",
    "from brainbox.plot import peri_event_time_histogram\n",
    "from brainbox.singlecell import calculate_peths\n",
    "\n",
    "BINSIZE = 0.005\n",
    "\n",
    "fitdata = np.load('/home/berk/Documents/Projects/prior-localization/rcos_synthetic_data_multifits.p', allow_pickle=True)\n",
    "\n",
    "cells = list(fitdata.keys())\n",
    "kernels = np.array(['stim', 'feedback', 'wheel'])\n",
    "combs = fitdata[0].keys()\n",
    "combnames = {np.array2string(kernels[list(c)]): c for c in combs}\n",
    "\n",
    "\n",
    "@iw.interact\n",
    "def plot_fits(cell=cells, combination=combnames.keys()):\n",
    "    left_t = trialsdf[np.isfinite(trialsdf.contrastLeft)].stimOn_times\n",
    "    fdbk = trialsdf[np.isfinite(trialsdf.contrastLeft)].feedback_times\n",
    "    left_rate, _ = calculate_peths(spk_times, spk_clu, [cell], left_t, pre_time=0,\n",
    "                                   post_time=0.6, bin_size=BINSIZE)\n",
    "    left_rate.means = left_rate.means - left_rate.means.min()\n",
    "    left_rate = left_rate.means.flatten()\n",
    "    fdbk_rate, _ = calculate_peths(spk_times, spk_clu, [cell], fdbk, pre_time=0,\n",
    "                                   post_time=0.6, bin_size=BINSIZE)\n",
    "    fdbk_rate.means = fdbk_rate.means - fdbk_rate.means.min()\n",
    "    fdbk_rate = fdbk_rate.means.flatten()\n",
    "    wheelkern = np.exp(-0.5 * ((np.linspace(0, 0.4, int(0.4 / BINSIZE)) - 0.3) / 0.05)**2)\n",
    "    logpeak = np.log(np.max([np.max(left_rate), np.max(fdbk_rate)]))\n",
    "    wheelkern = wheelkern / np.max(wheelkern) * logpeak\n",
    "    tstamps_l = np.linspace(0, 0.6, int(0.6 / BINSIZE))\n",
    "    tstamps_s = np.linspace(0, 0.4, int(0.4 / BINSIZE))\n",
    "    \n",
    "    comb = combnames[combination]\n",
    "    ncols = sum(comb)\n",
    "    size = (8, 4 * (2 + ncols / 3))\n",
    "    fig, ax = plt.subplots(4, ncols, figsize=size)\n",
    "    if ncols == 1:\n",
    "        ax = ax.reshape(-1, 1)\n",
    "    i = 0\n",
    "    if comb[0] is True:\n",
    "        ax[0, i].plot(tstamps_l, left_rate)\n",
    "        ax[0, i].set_xlim([0, 0.6])\n",
    "        ax[0, i].set_title('Original stim on PSTH')\n",
    "        for j, N in enumerate(fitdata[cell][comb].keys()):\n",
    "            ax[j + 1, i].plot(tstamps_l, left_rate, c='k', label='original', lw=3)\n",
    "            for trace in fitdata[cell][comb][N]:\n",
    "                ax[j + 1, i].plot((1 / 0.02) * np.exp(trace[i + 1] + trace[0]), color='b', alpha=0.25)\n",
    "            ax[j + 1, i].set_title(f\"{N} trials\")\n",
    "            ax[j + 1, i].set_xlim([0, 0.6])\n",
    "#             ax[j + 1, i].legend()\n",
    "        i += 1\n",
    "    if comb[1] is True:\n",
    "        ax[0, i].plot(tstamps_l, fdbk_rate)\n",
    "        ax[0, i].set_xlim([0, 0.6])\n",
    "        ax[0, i].set_title('Original feedback PSTH')\n",
    "        for j, N in enumerate(fitdata[cell][comb].keys()):\n",
    "            ax[j + 1, i].plot(tstamps_l, fdbk_rate, c='k', label='original', lw=3)\n",
    "            for trace in fitdata[cell][comb][N]:\n",
    "                ax[j + 1, i].plot((1 / 0.02) * np.exp(trace[i + 1] + trace[0]), color='b', alpha=0.25)\n",
    "            ax[j + 1, i].set_title(f\"{N} trials\")\n",
    "            ax[j + 1, i].set_xlim([0, 0.6])\n",
    "#             ax[j + 1, i].legend()\n",
    "        i += 1\n",
    "    if comb[2] is True:\n",
    "        ax[0, i].plot(tstamps_s - 0.4, wheelkern)\n",
    "        ax[0, i].set_title('Original wheel kernel')\n",
    "        for j, N in enumerate(fitdata[cell][comb].keys()):\n",
    "            ax[j + 1, i].plot(tstamps_s - 0.4, wheelkern, c='k', label='original', lw=3)\n",
    "            for trace in fitdata[cell][comb][N]:\n",
    "                ax[j + 1, i].plot((1 / np.log(1 / 0.02)) * trace[i + 1], color='b', alpha=0.25)  # Why the fuck is it always 1/4????\n",
    "            ax[j + 1, i].set_title(f\"{N} trials\")\n",
    "#             ax[j + 1, i].legend()\n",
    "    plt.tight_layout()"
   ]
  },
  {
   "cell_type": "code",
   "execution_count": 6,
   "metadata": {},
   "outputs": [
    {
     "data": {
      "text/plain": [
       "20"
      ]
     },
     "execution_count": 6,
     "metadata": {},
     "output_type": "execute_result"
    }
   ],
   "source": [
    "len(fitdata[1][(False, False, True)][100])"
   ]
  },
  {
   "cell_type": "code",
   "execution_count": null,
   "metadata": {},
   "outputs": [],
   "source": []
  }
 ],
 "metadata": {
  "kernelspec": {
   "display_name": "Python 3",
   "language": "python",
   "name": "python3"
  },
  "language_info": {
   "codemirror_mode": {
    "name": "ipython",
    "version": 3
   },
   "file_extension": ".py",
   "mimetype": "text/x-python",
   "name": "python",
   "nbconvert_exporter": "python",
   "pygments_lexer": "ipython3",
   "version": "3.7.3"
  }
 },
 "nbformat": 4,
 "nbformat_minor": 4
}
